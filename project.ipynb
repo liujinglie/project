import itertools

def is_clique(graph, nodes):
    for u in nodes:
        for v in nodes:
            if u != v and not graph[u][v]:
                return False
    return True

def contains_clique(graph, m):
    n = len(graph)
    for nodes in itertools.combinations(range(n), m):
        if is_clique(graph, nodes):
            return True
    return False

def is_independent_set(graph, nodes):
    for u in nodes:
        for v in nodes:
            if u != v and graph[u][v]:
                return False
    return True

def contains_independent_set(graph, n):
    num_nodes = len(graph)
    for nodes in itertools.combinations(range(num_nodes), n):
        if is_independent_set(graph, nodes):
            return True
    return False

def is_ramsey_number(V, m, n):
    for edges in itertools.product([0, 1], repeat=V * (V - 1) // 2):
        graph = [[0] * V for _ in range(V)]
        edge_index = 0
        for i in range(V):
            for j in range(i + 1, V):
                graph[i][j] = graph[j][i] = edges[edge_index]
                edge_index += 1

        if not contains_clique(graph, m) and not contains_independent_set(graph, n):
            return False
    return True

def ramsey_number(m, n):
    V = 1
    while True:
        if is_ramsey_number(V, m, n):
            return V
        V += 1
